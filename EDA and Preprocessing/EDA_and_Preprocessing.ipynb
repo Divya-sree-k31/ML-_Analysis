{
  "nbformat": 4,
  "nbformat_minor": 0,
  "metadata": {
    "colab": {
      "provenance": []
    },
    "kernelspec": {
      "name": "python3",
      "display_name": "Python 3"
    },
    "language_info": {
      "name": "python"
    }
  },
  "cells": [
    {
      "cell_type": "code",
      "execution_count": 12,
      "metadata": {
        "id": "VOULv8HB4OXD"
      },
      "outputs": [],
      "source": [
        "import pandas as pd\n",
        "import numpy as np\n",
        "import matplotlib.pyplot as plt\n",
        "import seaborn as sns\n",
        "from sklearn.preprocessing import StandardScaler, MinMaxScaler, LabelEncoder, OneHotEncoder\n",
        "import warnings\n",
        "warnings.filterwarnings('ignore')"
      ]
    },
    {
      "cell_type": "code",
      "source": [
        "df = pd.read_csv(\"/content/Employee.csv\")"
      ],
      "metadata": {
        "collapsed": true,
        "id": "m_VYmWCE5CZF"
      },
      "execution_count": 13,
      "outputs": []
    },
    {
      "cell_type": "markdown",
      "source": [
        "**# Data Exploration**"
      ],
      "metadata": {
        "id": "eDX4XYIS5miC"
      }
    },
    {
      "cell_type": "markdown",
      "source": [
        "1.Explore the data, list down the unique values in each feature and find its length.\n",
        "\n",
        "2.Perform the statistical analysis and renaming of the columns.\n"
      ],
      "metadata": {
        "id": "QWU9MjVtmtmZ"
      }
    },
    {
      "cell_type": "code",
      "source": [
        "print(f\"Dataset shape: {df.shape}\")\n",
        "print(\"\\nFirst 5 rows of the dataset:\")\n",
        "print(df.head())\n"
      ],
      "metadata": {
        "colab": {
          "base_uri": "https://localhost:8080/"
        },
        "id": "J1zUJ6uU5w5i",
        "outputId": "27cfb74a-e976-48f6-ef3e-1edd7484cf0d"
      },
      "execution_count": 14,
      "outputs": [
        {
          "output_type": "stream",
          "name": "stdout",
          "text": [
            "Dataset shape: (148, 6)\n",
            "\n",
            "First 5 rows of the dataset:\n",
            "   Company   Age  Salary     Place Country  Gender\n",
            "0      TCS  20.0     NaN   Chennai   India       0\n",
            "1  Infosys  30.0     NaN    Mumbai   India       0\n",
            "2      TCS  35.0  2300.0  Calcutta   India       0\n",
            "3  Infosys  40.0  3000.0     Delhi   India       0\n",
            "4      TCS  23.0  4000.0    Mumbai   India       0\n"
          ]
        }
      ]
    },
    {
      "cell_type": "code",
      "source": [
        "print(\"\\nData types:\")\n",
        "print(df.dtypes)\n"
      ],
      "metadata": {
        "colab": {
          "base_uri": "https://localhost:8080/"
        },
        "id": "i-0dypVk55bR",
        "outputId": "109bcc22-3e43-47ac-c378-b64604ee8702"
      },
      "execution_count": 15,
      "outputs": [
        {
          "output_type": "stream",
          "name": "stdout",
          "text": [
            "\n",
            "Data types:\n",
            "Company     object\n",
            "Age        float64\n",
            "Salary     float64\n",
            "Place       object\n",
            "Country     object\n",
            "Gender       int64\n",
            "dtype: object\n"
          ]
        }
      ]
    },
    {
      "cell_type": "markdown",
      "source": [
        "Summary statistics for numerical columns"
      ],
      "metadata": {
        "id": "i6t-vjosm97x"
      }
    },
    {
      "cell_type": "code",
      "source": [
        "print(\"\\nSummary statistics for numerical columns:\")\n",
        "print(df.describe())\n"
      ],
      "metadata": {
        "colab": {
          "base_uri": "https://localhost:8080/"
        },
        "id": "1XybGYdX580R",
        "outputId": "43e8cbe9-7d43-4847-9ea2-77b76d7be208"
      },
      "execution_count": 16,
      "outputs": [
        {
          "output_type": "stream",
          "name": "stdout",
          "text": [
            "\n",
            "Summary statistics for numerical columns:\n",
            "              Age       Salary      Gender\n",
            "count  130.000000   124.000000  148.000000\n",
            "mean    30.484615  5312.467742    0.222973\n",
            "std     11.096640  2573.764683    0.417654\n",
            "min      0.000000  1089.000000    0.000000\n",
            "25%     22.000000  3030.000000    0.000000\n",
            "50%     32.500000  5000.000000    0.000000\n",
            "75%     37.750000  8000.000000    0.000000\n",
            "max     54.000000  9876.000000    1.000000\n"
          ]
        }
      ]
    },
    {
      "cell_type": "code",
      "source": [
        "print(\"\\nUnique values in each column:\")\n",
        "for column in df.columns:\n",
        "    unique_values = df[column].unique()\n",
        "    print(f\"{column}: {unique_values}\")\n",
        "    print(f\"Number of unique values: {len(unique_values)}\")\n",
        "    print(\"-\" * 50)"
      ],
      "metadata": {
        "colab": {
          "base_uri": "https://localhost:8080/"
        },
        "id": "4iBR4Tjq5_4S",
        "outputId": "5c700a07-a8b4-4298-bfeb-0d20ff680f9e"
      },
      "execution_count": 17,
      "outputs": [
        {
          "output_type": "stream",
          "name": "stdout",
          "text": [
            "\n",
            "Unique values in each column:\n",
            "Company: ['TCS' 'Infosys' 'CTS' nan 'Tata Consultancy Services' 'Congnizant'\n",
            " 'Infosys Pvt Lmt']\n",
            "Number of unique values: 7\n",
            "--------------------------------------------------\n",
            "Age: [20. 30. 35. 40. 23. nan 34. 45. 18. 22. 32. 37. 50. 21. 46. 36. 26. 41.\n",
            " 24. 25. 43. 19. 38. 51. 31. 44. 33. 17.  0. 54.]\n",
            "Number of unique values: 30\n",
            "--------------------------------------------------\n",
            "Salary: [  nan 2300. 3000. 4000. 5000. 6000. 7000. 8000. 9000. 1089. 1234. 3030.\n",
            " 3045. 3184. 4824. 5835. 7084. 8943. 8345. 9284. 9876. 2034. 7654. 2934.\n",
            " 4034. 5034. 8202. 9024. 4345. 6544. 6543. 3234. 4324. 5435. 5555. 8787.\n",
            " 3454. 5654. 5009. 5098. 3033.]\n",
            "Number of unique values: 41\n",
            "--------------------------------------------------\n",
            "Place: ['Chennai' 'Mumbai' 'Calcutta' 'Delhi' 'Podicherry' 'Cochin' nan 'Noida'\n",
            " 'Hyderabad' 'Bhopal' 'Nagpur' 'Pune']\n",
            "Number of unique values: 12\n",
            "--------------------------------------------------\n",
            "Country: ['India']\n",
            "Number of unique values: 1\n",
            "--------------------------------------------------\n",
            "Gender: [0 1]\n",
            "Number of unique values: 2\n",
            "--------------------------------------------------\n"
          ]
        }
      ]
    },
    {
      "cell_type": "markdown",
      "source": [
        " Rename columns for better readability"
      ],
      "metadata": {
        "id": "RO-quQ8i6Kpp"
      }
    },
    {
      "cell_type": "code",
      "source": [
        "print(\"Current column names:\")\n",
        "print(df.columns.tolist())"
      ],
      "metadata": {
        "colab": {
          "base_uri": "https://localhost:8080/"
        },
        "id": "emLbNNUu6aiK",
        "outputId": "167a7893-583d-45a2-ed19-fe636164f016"
      },
      "execution_count": 18,
      "outputs": [
        {
          "output_type": "stream",
          "name": "stdout",
          "text": [
            "Current column names:\n",
            "['Company', 'Age', 'Salary', 'Place', 'Country', 'Gender']\n"
          ]
        }
      ]
    },
    {
      "cell_type": "markdown",
      "source": [
        "# **# Data Cleaning**"
      ],
      "metadata": {
        "id": "a5rqAF-d6gDB"
      }
    },
    {
      "cell_type": "markdown",
      "source": [
        "\n",
        "\n",
        "1.Find the missing and inappropriate values, treat them appropriately.\n",
        "\n",
        "2.Remove all duplicate rows.\n",
        "\n",
        "3.Find the outliers.\n",
        "\n",
        "4.Replace the value 0 in age as NaN\n",
        "\n",
        "5.Treat the null values in all columns using any measures(removing/ replace the values with mean/median/mode)"
      ],
      "metadata": {
        "id": "80GRWucumOig"
      }
    },
    {
      "cell_type": "markdown",
      "source": [
        "# Missing values in each column"
      ],
      "metadata": {
        "id": "5_KORgdk7BCJ"
      }
    },
    {
      "cell_type": "code",
      "source": [
        "print(df.isnull().sum())"
      ],
      "metadata": {
        "colab": {
          "base_uri": "https://localhost:8080/"
        },
        "id": "_-NzF6U16kfS",
        "outputId": "d1851541-4585-443e-d07a-83eb22bac5fc"
      },
      "execution_count": 19,
      "outputs": [
        {
          "output_type": "stream",
          "name": "stdout",
          "text": [
            "Company     8\n",
            "Age        18\n",
            "Salary     24\n",
            "Place      14\n",
            "Country     0\n",
            "Gender      0\n",
            "dtype: int64\n"
          ]
        }
      ]
    },
    {
      "cell_type": "markdown",
      "source": [
        "# Checking for inappropriate values"
      ],
      "metadata": {
        "id": "RY7fFJ597LqZ"
      }
    },
    {
      "cell_type": "code",
      "source": [
        "for column in df.columns:\n",
        "    if df[column].dtype == 'object':\n",
        "        # For categorical columns, check unique values\n",
        "        print(f\"Unique values in {column}: {df[column].unique()}\")\n",
        "    else:\n",
        "        # For numerical columns, check range\n",
        "        print(f\"Range of {column}: {df[column].min()} to {df[column].max()}\")\n"
      ],
      "metadata": {
        "colab": {
          "base_uri": "https://localhost:8080/"
        },
        "id": "yLcMCn5m7QOB",
        "outputId": "b4cf038a-57d0-4385-cb9b-d3cfbd9bc78d"
      },
      "execution_count": 20,
      "outputs": [
        {
          "output_type": "stream",
          "name": "stdout",
          "text": [
            "Unique values in Company: ['TCS' 'Infosys' 'CTS' nan 'Tata Consultancy Services' 'Congnizant'\n",
            " 'Infosys Pvt Lmt']\n",
            "Range of Age: 0.0 to 54.0\n",
            "Range of Salary: 1089.0 to 9876.0\n",
            "Unique values in Place: ['Chennai' 'Mumbai' 'Calcutta' 'Delhi' 'Podicherry' 'Cochin' nan 'Noida'\n",
            " 'Hyderabad' 'Bhopal' 'Nagpur' 'Pune']\n",
            "Unique values in Country: ['India']\n",
            "Range of Gender: 0 to 1\n"
          ]
        }
      ]
    },
    {
      "cell_type": "markdown",
      "source": [
        "# Remove duplicate rows"
      ],
      "metadata": {
        "id": "1UDOgV8x7WEa"
      }
    },
    {
      "cell_type": "code",
      "source": [
        "duplicate_count = df.duplicated().sum()\n",
        "print(f\"\\nNumber of duplicate rows: {duplicate_count}\")\n",
        "if duplicate_count > 0:\n",
        "    df.drop_duplicates(inplace=True)\n",
        "    print(f\"Removed {duplicate_count} duplicate rows. New shape: {df.shape}\")"
      ],
      "metadata": {
        "colab": {
          "base_uri": "https://localhost:8080/"
        },
        "id": "Q5TBtG-z7b6C",
        "outputId": "0c4a38e2-682e-44dc-e5bd-d7dfecd330bd"
      },
      "execution_count": 21,
      "outputs": [
        {
          "output_type": "stream",
          "name": "stdout",
          "text": [
            "\n",
            "Number of duplicate rows: 4\n",
            "Removed 4 duplicate rows. New shape: (144, 6)\n"
          ]
        }
      ]
    },
    {
      "cell_type": "markdown",
      "source": [
        "# Find outliers using IQR method for numerical columns"
      ],
      "metadata": {
        "id": "Y9lURobu7tDR"
      }
    },
    {
      "cell_type": "code",
      "source": [
        "print(\"\\nFinding outliers using IQR method...\")\n",
        "numerical_cols = df.select_dtypes(include=[np.number]).columns\n",
        "\n",
        "for column in numerical_cols:\n",
        "    Q1 = df[column].quantile(0.25)\n",
        "    Q3 = df[column].quantile(0.75)\n",
        "    IQR = Q3 - Q1\n",
        "\n",
        "    lower_bound = Q1 - 1.5 * IQR\n",
        "    upper_bound = Q3 + 1.5 * IQR\n",
        "\n",
        "    outliers = df[(df[column] < lower_bound) | (df[column] > upper_bound)]\n",
        "\n",
        "    print(f\"Column '{column}' has {len(outliers)} outliers\")\n",
        "    print(f\"Range for outliers: < {lower_bound} or > {upper_bound}\")\n"
      ],
      "metadata": {
        "colab": {
          "base_uri": "https://localhost:8080/"
        },
        "id": "9YzhgqPq7wiK",
        "outputId": "129845f3-d254-4796-d15c-67044e46c8a3"
      },
      "execution_count": 22,
      "outputs": [
        {
          "output_type": "stream",
          "name": "stdout",
          "text": [
            "\n",
            "Finding outliers using IQR method...\n",
            "Column 'Age' has 0 outliers\n",
            "Range for outliers: < -1.25 or > 60.75\n",
            "Column 'Salary' has 0 outliers\n",
            "Range for outliers: < -4425.0 or > 15455.0\n",
            "Column 'Gender' has 32 outliers\n",
            "Range for outliers: < 0.0 or > 0.0\n"
          ]
        }
      ]
    },
    {
      "cell_type": "markdown",
      "source": [
        "# Plotting boxplot to visualize outliers"
      ],
      "metadata": {
        "id": "eJVVE1uU71L5"
      }
    },
    {
      "cell_type": "code",
      "source": [
        "plt.figure(figsize=(10, 6))\n",
        "sns.boxplot(x=df[column])\n",
        "plt.title(f'Boxplot for {column}')\n",
        "plt.tight_layout()\n",
        "plt.show()"
      ],
      "metadata": {
        "colab": {
          "base_uri": "https://localhost:8080/",
          "height": 607
        },
        "id": "20Vg5n2t73zB",
        "outputId": "fc2052f3-8d28-4d28-ab86-687f4c9a02c2"
      },
      "execution_count": 23,
      "outputs": [
        {
          "output_type": "display_data",
          "data": {
            "text/plain": [
              "<Figure size 1000x600 with 1 Axes>"
            ],
            "image/png": "[encoded data removed]"
          },
          "metadata": {}
        }
      ]
    },
    {
      "cell_type": "markdown",
      "source": [
        "# Replace 0 in age column with NaN"
      ],
      "metadata": {
        "id": "qgvZ0h8Y8DeR"
      }
    },
    {
      "cell_type": "code",
      "source": [
        "if 'Age' in df.columns:\n",
        "    zero_ages = df['Age'] == 0\n",
        "    print(f\"\\nNumber of zero values in Age column: {sum(zero_ages)}\")\n",
        "    df.loc[zero_ages, 'Age'] = np.nan\n",
        "    print(\"Replaced zeros in Age column with NaN\")\n",
        "elif 'age' in df.columns:\n",
        "    zero_ages = df['age'] == 0\n",
        "    print(f\"\\nNumber of zero values in age column: {sum(zero_ages)}\")\n",
        "    df.loc[zero_ages, 'age'] = np.nan\n",
        "    print(\"Replaced zeros in age column with NaN\")\n",
        "else:\n",
        "    print(\"\\nNo 'Age' or 'age' column found in the dataset\")"
      ],
      "metadata": {
        "colab": {
          "base_uri": "https://localhost:8080/"
        },
        "id": "UmTMoWo58Imb",
        "outputId": "21db7348-86b6-49a4-9449-df94be9bea19"
      },
      "execution_count": 24,
      "outputs": [
        {
          "output_type": "stream",
          "name": "stdout",
          "text": [
            "\n",
            "Number of zero values in Age column: 6\n",
            "Replaced zeros in Age column with NaN\n"
          ]
        }
      ]
    },
    {
      "cell_type": "markdown",
      "source": [
        "# Check for missing values after replacing zeros with NaN"
      ],
      "metadata": {
        "id": "361URw3D8ONx"
      }
    },
    {
      "cell_type": "code",
      "source": [
        "print(\"\\nMissing values after replacing zeros with NaN:\")\n",
        "print(df.isnull().sum())\n"
      ],
      "metadata": {
        "colab": {
          "base_uri": "https://localhost:8080/"
        },
        "id": "l88N-Mio8Psx",
        "outputId": "3598a1f0-caf7-4920-c68e-add8fd98a9f5"
      },
      "execution_count": 25,
      "outputs": [
        {
          "output_type": "stream",
          "name": "stdout",
          "text": [
            "\n",
            "Missing values after replacing zeros with NaN:\n",
            "Company     8\n",
            "Age        23\n",
            "Salary     23\n",
            "Place      14\n",
            "Country     0\n",
            "Gender      0\n",
            "dtype: int64\n"
          ]
        }
      ]
    },
    {
      "cell_type": "markdown",
      "source": [
        "# Treat null values in all columns"
      ],
      "metadata": {
        "id": "E4maHzf_8ZcJ"
      }
    },
    {
      "cell_type": "code",
      "source": [
        "print(\"\\nTreating null values in all columns...\")\n",
        "for column in df.columns:\n",
        "    null_count = df[column].isnull().sum()\n",
        "    if null_count > 0:\n",
        "        if df[column].dtype == 'object':\n",
        "            # For categorical columns, use mode\n",
        "            mode_value = df[column].mode()[0]\n",
        "            df[column].fillna(mode_value, inplace=True)\n",
        "            print(f\"Filled {null_count} nulls in {column} with mode: {mode_value}\")\n",
        "        else:\n",
        "            # For numerical columns, use median\n",
        "            median_value = df[column].median()\n",
        "            df[column].fillna(median_value, inplace=True)\n",
        "            print(f\"Filled {null_count} nulls in {column} with median: {median_value}\")\n"
      ],
      "metadata": {
        "colab": {
          "base_uri": "https://localhost:8080/"
        },
        "id": "Bum54nDA8dJS",
        "outputId": "7ba0ed31-e39c-4273-fb17-ec7943ad154d"
      },
      "execution_count": 26,
      "outputs": [
        {
          "output_type": "stream",
          "name": "stdout",
          "text": [
            "\n",
            "Treating null values in all columns...\n",
            "Filled 8 nulls in Company with mode: TCS\n",
            "Filled 23 nulls in Age with median: 33.0\n",
            "Filled 23 nulls in Salary with median: 5000.0\n",
            "Filled 14 nulls in Place with mode: Mumbai\n"
          ]
        }
      ]
    },
    {
      "cell_type": "markdown",
      "source": [
        "# Verify no missing values remain"
      ],
      "metadata": {
        "id": "ULyulcH-d4GG"
      }
    },
    {
      "cell_type": "code",
      "source": [
        "print(\"\\nMissing values after treatment:\")\n",
        "print(df.isnull().sum())\n"
      ],
      "metadata": {
        "colab": {
          "base_uri": "https://localhost:8080/"
        },
        "id": "C11Ypt9_8kNp",
        "outputId": "66063e5f-e476-4529-f862-690810f7ef4c"
      },
      "execution_count": 27,
      "outputs": [
        {
          "output_type": "stream",
          "name": "stdout",
          "text": [
            "\n",
            "Missing values after treatment:\n",
            "Company    0\n",
            "Age        0\n",
            "Salary     0\n",
            "Place      0\n",
            "Country    0\n",
            "Gender     0\n",
            "dtype: int64\n"
          ]
        }
      ]
    },
    {
      "cell_type": "markdown",
      "source": [
        "# **#Data Analysis**"
      ],
      "metadata": {
        "id": "_v_W7jDo8l3x"
      }
    },
    {
      "cell_type": "markdown",
      "source": [
        " 1.Filter data with age > 40 and salary < 5000\n",
        "\n",
        " 2.Plot the chart with age and salary\n",
        "\n",
        " 3.Count the number of people from each place and represent it visually"
      ],
      "metadata": {
        "id": "ts3rwCfGeDG6"
      }
    },
    {
      "cell_type": "code",
      "source": [
        "filtered_df = df[(df['Age'] > 40) & (df['Salary'] < 5000)]\n",
        "# Plot Age vs Salary\n",
        "plt.figure(figsize=(8, 5))\n",
        "sns.scatterplot(data=filtered_df, x='Age', y='Salary')\n",
        "plt.title('Age vs Salary (Filtered)')\n",
        "plt.xlabel('Age')\n",
        "plt.ylabel('Salary')\n",
        "plt.grid(True)\n",
        "plt.show()\n",
        "\n",
        "# Count people from each place\n",
        "place_counts = df['Place'].value_counts()\n",
        "\n",
        "# Plot people count per place\n",
        "plt.figure(figsize=(10, 6))\n",
        "sns.barplot(x=place_counts.index, y=place_counts.values)\n",
        "plt.title('Number of People from Each Place')\n",
        "plt.xlabel('Place')\n",
        "plt.ylabel('Count')\n",
        "plt.xticks(rotation=45)\n",
        "plt.tight_layout()\n",
        "plt.show()"
      ],
      "metadata": {
        "colab": {
          "base_uri": "https://localhost:8080/",
          "height": 1000
        },
        "id": "EUqqsn7WgTs7",
        "outputId": "7c300c34-c24f-4e8b-a89b-2cd120070cd5"
      },
      "execution_count": 35,
      "outputs": [
        {
          "output_type": "display_data",
          "data": {
            "text/plain": [
              "<Figure size 800x500 with 1 Axes>"
            ],
            "image/png": "[encoded data removed]"
          },
          "metadata": {}
        },
        {
          "output_type": "display_data",
          "data": {
            "text/plain": [
              "<Figure size 1000x600 with 1 Axes>"
            ],
            "image/png": "[encoded data removed]"
          },
          "metadata": {}
        }
      ]
    },
    {
      "cell_type": "markdown",
      "source": [
        "# **#Data Encoding**"
      ],
      "metadata": {
        "id": "IkDWenhYkNYw"
      }
    },
    {
      "cell_type": "markdown",
      "source": [
        "Convert categorical variables into numerical representations using techniques such as one-hot encoding, label encoding, making them suitable for analysis by machine learning algorithms."
      ],
      "metadata": {
        "id": "Yny6_rZrkq3h"
      }
    },
    {
      "cell_type": "code",
      "source": [
        "# Identify categorical columns\n",
        "categorical_cols = df.select_dtypes(include=['object']).columns.tolist()\n",
        "\n",
        "# Apply Label Encoding\n",
        "label_encoded_df = df.copy()\n",
        "label_encoders = {}\n",
        "\n",
        "for col in categorical_cols:\n",
        "    le = LabelEncoder()\n",
        "    label_encoded_df[col] = le.fit_transform(df[col].astype(str))\n",
        "    label_encoders[col] = le\n",
        "\n",
        "# Apply One-Hot Encoding\n",
        "one_hot_encoded_df = pd.get_dummies(df, columns=categorical_cols, drop_first=True)"
      ],
      "metadata": {
        "id": "cuHUzA63k1yJ"
      },
      "execution_count": 36,
      "outputs": []
    },
    {
      "cell_type": "markdown",
      "source": [
        "# **#Feature Scaling**"
      ],
      "metadata": {
        "id": "aa7SRVlslJk5"
      }
    },
    {
      "cell_type": "markdown",
      "source": [
        "After the process of encoding, perform the scaling of the features using standardscaler and minmaxscaler."
      ],
      "metadata": {
        "id": "obBJOGYzlZmH"
      }
    },
    {
      "cell_type": "code",
      "source": [
        "# Identify numerical columns for scaling (excluding any target variables)\n",
        "numerical_cols = df.select_dtypes(include=['int64', 'float64']).columns.tolist()\n",
        "\n",
        "# StandardScaler\n",
        "std_scaler = StandardScaler()\n",
        "std_scaled_data = std_scaler.fit_transform(df[numerical_cols])\n",
        "std_scaled_df = pd.DataFrame(std_scaled_data, columns=numerical_cols)\n",
        "\n",
        "# MinMaxScaler\n",
        "minmax_scaler = MinMaxScaler()\n",
        "minmax_scaled_data = minmax_scaler.fit_transform(df[numerical_cols])\n",
        "minmax_scaled_df = pd.DataFrame(minmax_scaled_data, columns=numerical_cols)\n",
        "\n",
        "# Display results\n",
        "print(\"\\nOriginal Data:\")\n",
        "print(df[numerical_cols].describe())\n",
        "\n",
        "print(\"\\nStandardScaled Data:\")\n",
        "print(std_scaled_df.describe())\n",
        "\n",
        "print(\"\\nMinMaxScaled Data:\")\n",
        "print(minmax_scaled_df.describe())"
      ],
      "metadata": {
        "colab": {
          "base_uri": "https://localhost:8080/"
        },
        "id": "R_x6cqTnljE_",
        "outputId": "940f1eda-226d-49c2-dadf-a3e4e6e36989"
      },
      "execution_count": 37,
      "outputs": [
        {
          "output_type": "stream",
          "name": "stdout",
          "text": [
            "\n",
            "Original Data:\n",
            "              Age       Salary      Gender\n",
            "count  144.000000   144.000000  144.000000\n",
            "mean    32.194444  5238.194444    0.222222\n",
            "std      8.242206  2370.641804    0.417191\n",
            "min     17.000000  1089.000000    0.000000\n",
            "25%     23.750000  3045.000000    0.000000\n",
            "50%     33.000000  5000.000000    0.000000\n",
            "75%     36.000000  7084.000000    0.000000\n",
            "max     54.000000  9876.000000    1.000000\n",
            "\n",
            "StandardScaled Data:\n",
            "                Age        Salary        Gender\n",
            "count  1.440000e+02  1.440000e+02  1.440000e+02\n",
            "mean   2.073958e-16  4.625929e-17  6.167906e-17\n",
            "std    1.003490e+00  1.003490e+00  1.003490e+00\n",
            "min   -1.849927e+00 -1.756350e+00 -5.345225e-01\n",
            "25%   -1.028113e+00 -9.283771e-01 -5.345225e-01\n",
            "50%    9.807657e-02 -1.008275e-01 -5.345225e-01\n",
            "75%    4.633273e-01  7.813277e-01 -5.345225e-01\n",
            "max    2.654831e+00  1.963179e+00  1.870829e+00\n",
            "\n",
            "MinMaxScaled Data:\n",
            "              Age      Salary      Gender\n",
            "count  144.000000  144.000000  144.000000\n",
            "mean     0.410661    0.472197    0.222222\n",
            "std      0.222762    0.269790    0.417191\n",
            "min      0.000000    0.000000    0.000000\n",
            "25%      0.182432    0.222602    0.000000\n",
            "50%      0.432432    0.445089    0.000000\n",
            "75%      0.513514    0.682258    0.000000\n",
            "max      1.000000    1.000000    1.000000\n"
          ]
        }
      ]
    }
  ]
}