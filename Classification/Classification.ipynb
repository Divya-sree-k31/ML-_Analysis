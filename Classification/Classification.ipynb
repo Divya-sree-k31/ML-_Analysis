{
  "nbformat": 4,
  "nbformat_minor": 0,
  "metadata": {
    "colab": {
      "provenance": []
    },
    "kernelspec": {
      "name": "python3",
      "display_name": "Python 3"
    },
    "language_info": {
      "name": "python"
    }
  },
  "cells": [
    {
      "cell_type": "markdown",
      "source": [
        "# **Breast Cancer Classification with Supervised Learning**\n",
        "\n",
        "This notebook implements and compares different supervised learning algorithms on the breast cancer dataset from scikit-learn.\n",
        "\n",
        "# **1. Loading and Preprocessing**"
      ],
      "metadata": {
        "id": "j7hOvWLyYod6"
      }
    },
    {
      "cell_type": "code",
      "execution_count": 1,
      "metadata": {
        "id": "hYyhpdy-VE90"
      },
      "outputs": [],
      "source": [
        "import numpy as np\n",
        "import pandas as pd\n",
        "import matplotlib.pyplot as plt\n",
        "import seaborn as sns\n",
        "from sklearn.datasets import load_breast_cancer\n",
        "from sklearn.model_selection import train_test_split, cross_val_score\n",
        "from sklearn.preprocessing import StandardScaler\n",
        "from sklearn.linear_model import LogisticRegression\n",
        "from sklearn.tree import DecisionTreeClassifier\n",
        "from sklearn.ensemble import RandomForestClassifier\n",
        "from sklearn.svm import SVC\n",
        "from sklearn.neighbors import KNeighborsClassifier\n",
        "from sklearn.metrics import accuracy_score, classification_report, confusion_matrix\n",
        "import time"
      ]
    },
    {
      "cell_type": "code",
      "source": [
        "np.random.seed(42)"
      ],
      "metadata": {
        "id": "jnfJ7ARDZdn9"
      },
      "execution_count": 2,
      "outputs": []
    },
    {
      "cell_type": "code",
      "source": [
        "# Load the breast cancer dataset\n",
        "cancer = load_breast_cancer()\n",
        "X = cancer.data\n",
        "y = cancer.target\n"
      ],
      "metadata": {
        "id": "vsykL9QHZiUP"
      },
      "execution_count": 3,
      "outputs": []
    },
    {
      "cell_type": "code",
      "source": [
        "# Convert to pandas DataFrame for easier manipulation\n",
        "df = pd.DataFrame(X, columns=cancer.feature_names)\n",
        "df['target'] = y"
      ],
      "metadata": {
        "id": "Q1K4femeZln0"
      },
      "execution_count": 4,
      "outputs": []
    },
    {
      "cell_type": "code",
      "source": [
        "# Display basic information about the dataset\n",
        "print(f\"Dataset dimensions: {df.shape}\")\n",
        "print(f\"Target classes: {cancer.target_names}\")\n",
        "print(f\"Class distribution: {pd.Series(y).value_counts()}\")"
      ],
      "metadata": {
        "colab": {
          "base_uri": "https://localhost:8080/"
        },
        "id": "cEP1h5BMZot0",
        "outputId": "b6f3e39f-3b39-49ec-cd75-fe2ecf67b91d"
      },
      "execution_count": 5,
      "outputs": [
        {
          "output_type": "stream",
          "name": "stdout",
          "text": [
            "Dataset dimensions: (569, 31)\n",
            "Target classes: ['malignant' 'benign']\n",
            "Class distribution: 1    357\n",
            "0    212\n",
            "Name: count, dtype: int64\n"
          ]
        }
      ]
    },
    {
      "cell_type": "code",
      "source": [
        "# Check for missing values\n",
        "missing_values = df.isnull().sum().sum()\n",
        "print(f\"Total missing values: {missing_values}\")"
      ],
      "metadata": {
        "colab": {
          "base_uri": "https://localhost:8080/"
        },
        "id": "dOBtfcCqZrtO",
        "outputId": "09f63c9a-0525-4bee-e7e7-94ce5cc910f0"
      },
      "execution_count": 6,
      "outputs": [
        {
          "output_type": "stream",
          "name": "stdout",
          "text": [
            "Total missing values: 0\n"
          ]
        }
      ]
    },
    {
      "cell_type": "code",
      "source": [
        "# Brief view of dataset\n",
        "print(\"\\nFirst 5 rows of the dataset:\")\n",
        "df.head()"
      ],
      "metadata": {
        "colab": {
          "base_uri": "https://localhost:8080/",
          "height": 325
        },
        "id": "SzOJoo2-ZvCe",
        "outputId": "dfd4b74c-c1bf-46b3-df13-719d3ae539f6"
      },
      "execution_count": 7,
      "outputs": [
        {
          "output_type": "stream",
          "name": "stdout",
          "text": [
            "\n",
            "First 5 rows of the dataset:\n"
          ]
        },
        {
          "output_type": "execute_result",
          "data": {
            "text/plain": [
              "   mean radius  mean texture  mean perimeter  mean area  mean smoothness  \\\n",
              "0        17.99         10.38          122.80     1001.0          0.11840   \n",
              "1        20.57         17.77          132.90     1326.0          0.08474   \n",
              "2        19.69         21.25          130.00     1203.0          0.10960   \n",
              "3        11.42         20.38           77.58      386.1          0.14250   \n",
              "4        20.29         14.34          135.10     1297.0          0.10030   \n",
              "\n",
              "   mean compactness  mean concavity  mean concave points  mean symmetry  \\\n",
              "0           0.27760          0.3001              0.14710         0.2419   \n",
              "1           0.07864          0.0869              0.07017         0.1812   \n",
              "2           0.15990          0.1974              0.12790         0.2069   \n",
              "3           0.28390          0.2414              0.10520         0.2597   \n",
              "4           0.13280          0.1980              0.10430         0.1809   \n",
              "\n",
              "   mean fractal dimension  ...  worst texture  worst perimeter  worst area  \\\n",
              "0                 0.07871  ...          17.33           184.60      2019.0   \n",
              "1                 0.05667  ...          23.41           158.80      1956.0   \n",
              "2                 0.05999  ...          25.53           152.50      1709.0   \n",
              "3                 0.09744  ...          26.50            98.87       567.7   \n",
              "4                 0.05883  ...          16.67           152.20      1575.0   \n",
              "\n",
              "   worst smoothness  worst compactness  worst concavity  worst concave points  \\\n",
              "0            0.1622             0.6656           0.7119                0.2654   \n",
              "1            0.1238             0.1866           0.2416                0.1860   \n",
              "2            0.1444             0.4245           0.4504                0.2430   \n",
              "3            0.2098             0.8663           0.6869                0.2575   \n",
              "4            0.1374             0.2050           0.4000                0.1625   \n",
              "\n",
              "   worst symmetry  worst fractal dimension  target  \n",
              "0          0.4601                  0.11890       0  \n",
              "1          0.2750                  0.08902       0  \n",
              "2          0.3613                  0.08758       0  \n",
              "3          0.6638                  0.17300       0  \n",
              "4          0.2364                  0.07678       0  \n",
              "\n",
              "[5 rows x 31 columns]"
            ],
            "text/html": [
              "\n",
              "  <div id=\"df-91e758f4-d716-4ebc-af98-8f7429874800\" class=\"colab-df-container\">\n",
              "    <div>\n",
              "<style scoped>\n",
              "    .dataframe tbody tr th:only-of-type {\n",
              "        vertical-align: middle;\n",
              "    }\n",
              "\n",
              "    .dataframe tbody tr th {\n",
              "        vertical-align: top;\n",
              "    }\n",
              "\n",
              "    .dataframe thead th {\n",
              "        text-align: right;\n",
              "    }\n",
              "</style>\n",
              "<table border=\"1\" class=\"dataframe\">\n",
              "  <thead>\n",
              "    <tr style=\"text-align: right;\">\n",
              "      <th></th>\n",
              "      <th>mean radius</th>\n",
              "      <th>mean texture</th>\n",
              "      <th>mean perimeter</th>\n",
              "      <th>mean area</th>\n",
              "      <th>mean smoothness</th>\n",
              "      <th>mean compactness</th>\n",
              "      <th>mean concavity</th>\n",
              "      <th>mean concave points</th>\n",
              "      <th>mean symmetry</th>\n",
              "      <th>mean fractal dimension</th>\n",
              "      <th>...</th>\n",
              "      <th>worst texture</th>\n",
              "      <th>worst perimeter</th>\n",
              "      <th>worst area</th>\n",
              "      <th>worst smoothness</th>\n",
              "      <th>worst compactness</th>\n",
              "      <th>worst concavity</th>\n",
              "      <th>worst concave points</th>\n",
              "      <th>worst symmetry</th>\n",
              "      <th>worst fractal dimension</th>\n",
              "      <th>target</th>\n",
              "    </tr>\n",
              "  </thead>\n",
              "  <tbody>\n",
              "    <tr>\n",
              "      <th>0</th>\n",
              "      <td>17.99</td>\n",
              "      <td>10.38</td>\n",
              "      <td>122.80</td>\n",
              "      <td>1001.0</td>\n",
              "      <td>0.11840</td>\n",
              "      <td>0.27760</td>\n",
              "      <td>0.3001</td>\n",
              "      <td>0.14710</td>\n",
              "      <td>0.2419</td>\n",
              "      <td>0.07871</td>\n",
              "      <td>...</td>\n",
              "      <td>17.33</td>\n",
              "      <td>184.60</td>\n",
              "      <td>2019.0</td>\n",
              "      <td>0.1622</td>\n",
              "      <td>0.6656</td>\n",
              "      <td>0.7119</td>\n",
              "      <td>0.2654</td>\n",
              "      <td>0.4601</td>\n",
              "      <td>0.11890</td>\n",
              "      <td>0</td>\n",
              "    </tr>\n",
              "    <tr>\n",
              "      <th>1</th>\n",
              "      <td>20.57</td>\n",
              "      <td>17.77</td>\n",
              "      <td>132.90</td>\n",
              "      <td>1326.0</td>\n",
              "      <td>0.08474</td>\n",
              "      <td>0.07864</td>\n",
              "      <td>0.0869</td>\n",
              "      <td>0.07017</td>\n",
              "      <td>0.1812</td>\n",
              "      <td>0.05667</td>\n",
              "      <td>...</td>\n",
              "      <td>23.41</td>\n",
              "      <td>158.80</td>\n",
              "      <td>1956.0</td>\n",
              "      <td>0.1238</td>\n",
              "      <td>0.1866</td>\n",
              "      <td>0.2416</td>\n",
              "      <td>0.1860</td>\n",
              "      <td>0.2750</td>\n",
              "      <td>0.08902</td>\n",
              "      <td>0</td>\n",
              "    </tr>\n",
              "    <tr>\n",
              "      <th>2</th>\n",
              "      <td>19.69</td>\n",
              "      <td>21.25</td>\n",
              "      <td>130.00</td>\n",
              "      <td>1203.0</td>\n",
              "      <td>0.10960</td>\n",
              "      <td>0.15990</td>\n",
              "      <td>0.1974</td>\n",
              "      <td>0.12790</td>\n",
              "      <td>0.2069</td>\n",
              "      <td>0.05999</td>\n",
              "      <td>...</td>\n",
              "      <td>25.53</td>\n",
              "      <td>152.50</td>\n",
              "      <td>1709.0</td>\n",
              "      <td>0.1444</td>\n",
              "      <td>0.4245</td>\n",
              "      <td>0.4504</td>\n",
              "      <td>0.2430</td>\n",
              "      <td>0.3613</td>\n",
              "      <td>0.08758</td>\n",
              "      <td>0</td>\n",
              "    </tr>\n",
              "    <tr>\n",
              "      <th>3</th>\n",
              "      <td>11.42</td>\n",
              "      <td>20.38</td>\n",
              "      <td>77.58</td>\n",
              "      <td>386.1</td>\n",
              "      <td>0.14250</td>\n",
              "      <td>0.28390</td>\n",
              "      <td>0.2414</td>\n",
              "      <td>0.10520</td>\n",
              "      <td>0.2597</td>\n",
              "      <td>0.09744</td>\n",
              "      <td>...</td>\n",
              "      <td>26.50</td>\n",
              "      <td>98.87</td>\n",
              "      <td>567.7</td>\n",
              "      <td>0.2098</td>\n",
              "      <td>0.8663</td>\n",
              "      <td>0.6869</td>\n",
              "      <td>0.2575</td>\n",
              "      <td>0.6638</td>\n",
              "      <td>0.17300</td>\n",
              "      <td>0</td>\n",
              "    </tr>\n",
              "    <tr>\n",
              "      <th>4</th>\n",
              "      <td>20.29</td>\n",
              "      <td>14.34</td>\n",
              "      <td>135.10</td>\n",
              "      <td>1297.0</td>\n",
              "      <td>0.10030</td>\n",
              "      <td>0.13280</td>\n",
              "      <td>0.1980</td>\n",
              "      <td>0.10430</td>\n",
              "      <td>0.1809</td>\n",
              "      <td>0.05883</td>\n",
              "      <td>...</td>\n",
              "      <td>16.67</td>\n",
              "      <td>152.20</td>\n",
              "      <td>1575.0</td>\n",
              "      <td>0.1374</td>\n",
              "      <td>0.2050</td>\n",
              "      <td>0.4000</td>\n",
              "      <td>0.1625</td>\n",
              "      <td>0.2364</td>\n",
              "      <td>0.07678</td>\n",
              "      <td>0</td>\n",
              "    </tr>\n",
              "  </tbody>\n",
              "</table>\n",
              "<p>5 rows × 31 columns</p>\n",
              "</div>\n",
              "    <div class=\"colab-df-buttons\">\n",
              "\n",
              "  <div class=\"colab-df-container\">\n",
              "    <button class=\"colab-df-convert\" onclick=\"convertToInteractive('df-91e758f4-d716-4ebc-af98-8f7429874800')\"\n",
              "            title=\"Convert this dataframe to an interactive table.\"\n",
              "            style=\"display:none;\">\n",
              "\n",
              "  <svg xmlns=\"http://www.w3.org/2000/svg\" height=\"24px\" viewBox=\"0 -960 960 960\">\n",
              "    <path d=\"M120-120v-720h720v720H120Zm60-500h600v-160H180v160Zm220 220h160v-160H400v160Zm0 220h160v-160H400v160ZM180-400h160v-160H180v160Zm440 0h160v-160H620v160ZM180-180h160v-160H180v160Zm440 0h160v-160H620v160Z\"/>\n",
              "  </svg>\n",
              "    </button>\n",
              "\n",
              "  <style>\n",
              "    .colab-df-container {\n",
              "      display:flex;\n",
              "      gap: 12px;\n",
              "    }\n",
              "\n",
              "    .colab-df-convert {\n",
              "      background-color: #E8F0FE;\n",
              "      border: none;\n",
              "      border-radius: 50%;\n",
              "      cursor: pointer;\n",
              "      display: none;\n",
              "      fill: #1967D2;\n",
              "      height: 32px;\n",
              "      padding: 0 0 0 0;\n",
              "      width: 32px;\n",
              "    }\n",
              "\n",
              "    .colab-df-convert:hover {\n",
              "      background-color: #E2EBFA;\n",
              "      box-shadow: 0px 1px 2px rgba(60, 64, 67, 0.3), 0px 1px 3px 1px rgba(60, 64, 67, 0.15);\n",
              "      fill: #174EA6;\n",
              "    }\n",
              "\n",
              "    .colab-df-buttons div {\n",
              "      margin-bottom: 4px;\n",
              "    }\n",
              "\n",
              "    [theme=dark] .colab-df-convert {\n",
              "      background-color: #3B4455;\n",
              "      fill: #D2E3FC;\n",
              "    }\n",
              "\n",
              "    [theme=dark] .colab-df-convert:hover {\n",
              "      background-color: #434B5C;\n",
              "      box-shadow: 0px 1px 3px 1px rgba(0, 0, 0, 0.15);\n",
              "      filter: drop-shadow(0px 1px 2px rgba(0, 0, 0, 0.3));\n",
              "      fill: #FFFFFF;\n",
              "    }\n",
              "  </style>\n",
              "\n",
              "    <script>\n",
              "      const buttonEl =\n",
              "        document.querySelector('#df-91e758f4-d716-4ebc-af98-8f7429874800 button.colab-df-convert');\n",
              "      buttonEl.style.display =\n",
              "        google.colab.kernel.accessAllowed ? 'block' : 'none';\n",
              "\n",
              "      async function convertToInteractive(key) {\n",
              "        const element = document.querySelector('#df-91e758f4-d716-4ebc-af98-8f7429874800');\n",
              "        const dataTable =\n",
              "          await google.colab.kernel.invokeFunction('convertToInteractive',\n",
              "                                                    [key], {});\n",
              "        if (!dataTable) return;\n",
              "\n",
              "        const docLinkHtml = 'Like what you see? Visit the ' +\n",
              "          '<a target=\"_blank\" href=https://colab.research.google.com/notebooks/data_table.ipynb>data table notebook</a>'\n",
              "          + ' to learn more about interactive tables.';\n",
              "        element.innerHTML = '';\n",
              "        dataTable['output_type'] = 'display_data';\n",
              "        await google.colab.output.renderOutput(dataTable, element);\n",
              "        const docLink = document.createElement('div');\n",
              "        docLink.innerHTML = docLinkHtml;\n",
              "        element.appendChild(docLink);\n",
              "      }\n",
              "    </script>\n",
              "  </div>\n",
              "\n",
              "\n",
              "    <div id=\"df-a712d694-6449-493c-84a4-14364909099f\">\n",
              "      <button class=\"colab-df-quickchart\" onclick=\"quickchart('df-a712d694-6449-493c-84a4-14364909099f')\"\n",
              "                title=\"Suggest charts\"\n",
              "                style=\"display:none;\">\n",
              "\n",
              "<svg xmlns=\"http://www.w3.org/2000/svg\" height=\"24px\"viewBox=\"0 0 24 24\"\n",
              "     width=\"24px\">\n",
              "    <g>\n",
              "        <path d=\"M19 3H5c-1.1 0-2 .9-2 2v14c0 1.1.9 2 2 2h14c1.1 0 2-.9 2-2V5c0-1.1-.9-2-2-2zM9 17H7v-7h2v7zm4 0h-2V7h2v10zm4 0h-2v-4h2v4z\"/>\n",
              "    </g>\n",
              "</svg>\n",
              "      </button>\n",
              "\n",
              "<style>\n",
              "  .colab-df-quickchart {\n",
              "      --bg-color: #E8F0FE;\n",
              "      --fill-color: #1967D2;\n",
              "      --hover-bg-color: #E2EBFA;\n",
              "      --hover-fill-color: #174EA6;\n",
              "      --disabled-fill-color: #AAA;\n",
              "      --disabled-bg-color: #DDD;\n",
              "  }\n",
              "\n",
              "  [theme=dark] .colab-df-quickchart {\n",
              "      --bg-color: #3B4455;\n",
              "      --fill-color: #D2E3FC;\n",
              "      --hover-bg-color: #434B5C;\n",
              "      --hover-fill-color: #FFFFFF;\n",
              "      --disabled-bg-color: #3B4455;\n",
              "      --disabled-fill-color: #666;\n",
              "  }\n",
              "\n",
              "  .colab-df-quickchart {\n",
              "    background-color: var(--bg-color);\n",
              "    border: none;\n",
              "    border-radius: 50%;\n",
              "    cursor: pointer;\n",
              "    display: none;\n",
              "    fill: var(--fill-color);\n",
              "    height: 32px;\n",
              "    padding: 0;\n",
              "    width: 32px;\n",
              "  }\n",
              "\n",
              "  .colab-df-quickchart:hover {\n",
              "    background-color: var(--hover-bg-color);\n",
              "    box-shadow: 0 1px 2px rgba(60, 64, 67, 0.3), 0 1px 3px 1px rgba(60, 64, 67, 0.15);\n",
              "    fill: var(--button-hover-fill-color);\n",
              "  }\n",
              "\n",
              "  .colab-df-quickchart-complete:disabled,\n",
              "  .colab-df-quickchart-complete:disabled:hover {\n",
              "    background-color: var(--disabled-bg-color);\n",
              "    fill: var(--disabled-fill-color);\n",
              "    box-shadow: none;\n",
              "  }\n",
              "\n",
              "  .colab-df-spinner {\n",
              "    border: 2px solid var(--fill-color);\n",
              "    border-color: transparent;\n",
              "    border-bottom-color: var(--fill-color);\n",
              "    animation:\n",
              "      spin 1s steps(1) infinite;\n",
              "  }\n",
              "\n",
              "  @keyframes spin {\n",
              "    0% {\n",
              "      border-color: transparent;\n",
              "      border-bottom-color: var(--fill-color);\n",
              "      border-left-color: var(--fill-color);\n",
              "    }\n",
              "    20% {\n",
              "      border-color: transparent;\n",
              "      border-left-color: var(--fill-color);\n",
              "      border-top-color: var(--fill-color);\n",
              "    }\n",
              "    30% {\n",
              "      border-color: transparent;\n",
              "      border-left-color: var(--fill-color);\n",
              "      border-top-color: var(--fill-color);\n",
              "      border-right-color: var(--fill-color);\n",
              "    }\n",
              "    40% {\n",
              "      border-color: transparent;\n",
              "      border-right-color: var(--fill-color);\n",
              "      border-top-color: var(--fill-color);\n",
              "    }\n",
              "    60% {\n",
              "      border-color: transparent;\n",
              "      border-right-color: var(--fill-color);\n",
              "    }\n",
              "    80% {\n",
              "      border-color: transparent;\n",
              "      border-right-color: var(--fill-color);\n",
              "      border-bottom-color: var(--fill-color);\n",
              "    }\n",
              "    90% {\n",
              "      border-color: transparent;\n",
              "      border-bottom-color: var(--fill-color);\n",
              "    }\n",
              "  }\n",
              "</style>\n",
              "\n",
              "      <script>\n",
              "        async function quickchart(key) {\n",
              "          const quickchartButtonEl =\n",
              "            document.querySelector('#' + key + ' button');\n",
              "          quickchartButtonEl.disabled = true;  // To prevent multiple clicks.\n",
              "          quickchartButtonEl.classList.add('colab-df-spinner');\n",
              "          try {\n",
              "            const charts = await google.colab.kernel.invokeFunction(\n",
              "                'suggestCharts', [key], {});\n",
              "          } catch (error) {\n",
              "            console.error('Error during call to suggestCharts:', error);\n",
              "          }\n",
              "          quickchartButtonEl.classList.remove('colab-df-spinner');\n",
              "          quickchartButtonEl.classList.add('colab-df-quickchart-complete');\n",
              "        }\n",
              "        (() => {\n",
              "          let quickchartButtonEl =\n",
              "            document.querySelector('#df-a712d694-6449-493c-84a4-14364909099f button');\n",
              "          quickchartButtonEl.style.display =\n",
              "            google.colab.kernel.accessAllowed ? 'block' : 'none';\n",
              "        })();\n",
              "      </script>\n",
              "    </div>\n",
              "\n",
              "    </div>\n",
              "  </div>\n"
            ],
            "application/vnd.google.colaboratory.intrinsic+json": {
              "type": "dataframe",
              "variable_name": "df"
            }
          },
          "metadata": {},
          "execution_count": 7
        }
      ]
    },
    {
      "cell_type": "markdown",
      "source": [
        "# ### **Preprocessing Steps**"
      ],
      "metadata": {
        "id": "Za2CjCLJZzHt"
      }
    },
    {
      "cell_type": "code",
      "source": [
        "# Split the data into training and testing sets\n",
        "X_train, X_test, y_train, y_test = train_test_split(X, y, test_size=0.25, random_state=42)\n",
        "print(f\"Training set shape: {X_train.shape}\")\n",
        "print(f\"Testing set shape: {X_test.shape}\")"
      ],
      "metadata": {
        "colab": {
          "base_uri": "https://localhost:8080/"
        },
        "id": "s5SXi8WKZxOl",
        "outputId": "469af553-6bf8-4c32-e8f9-1b017aa26475"
      },
      "execution_count": 10,
      "outputs": [
        {
          "output_type": "stream",
          "name": "stdout",
          "text": [
            "Training set shape: (426, 30)\n",
            "Testing set shape: (143, 30)\n"
          ]
        }
      ]
    },
    {
      "cell_type": "code",
      "source": [
        "# Scale the features\n",
        "scaler = StandardScaler()\n",
        "X_train_scaled = scaler.fit_transform(X_train)\n",
        "X_test_scaled = scaler.transform(X_test)"
      ],
      "metadata": {
        "id": "9ew1kY_RZ-y1"
      },
      "execution_count": 11,
      "outputs": []
    },
    {
      "cell_type": "code",
      "source": [
        "# Brief explanation of preprocessing\n",
        "print(\"\\nPreprocessing Steps Performed:\")\n",
        "print(\"1. Checked for missing values - None found in this dataset\")\n",
        "print(\"2. Split dataset into training (75%) and testing (25%) sets\")\n",
        "print(\"3. Applied StandardScaler to normalize features\")\n",
        "print(\"   - This is necessary because features are measured in different units\")\n",
        "print(\"   - Normalization helps algorithms like SVM, Logistic Regression, and KNN that are sensitive to feature scales\")\n",
        "print(\"   - Each feature now has mean=0 and variance=1\")"
      ],
      "metadata": {
        "colab": {
          "base_uri": "https://localhost:8080/"
        },
        "id": "1OchKonBaSsv",
        "outputId": "faa78198-e424-464d-f84d-adff27cbb4ed"
      },
      "execution_count": 12,
      "outputs": [
        {
          "output_type": "stream",
          "name": "stdout",
          "text": [
            "\n",
            "Preprocessing Steps Performed:\n",
            "1. Checked for missing values - None found in this dataset\n",
            "2. Split dataset into training (75%) and testing (25%) sets\n",
            "3. Applied StandardScaler to normalize features\n",
            "   - This is necessary because features are measured in different units\n",
            "   - Normalization helps algorithms like SVM, Logistic Regression, and KNN that are sensitive to feature scales\n",
            "   - Each feature now has mean=0 and variance=1\n"
          ]
        }
      ]
    },
    {
      "cell_type": "markdown",
      "source": [
        "# ## **2. Classification Algorithm Implementation**\n"
      ],
      "metadata": {
        "id": "-M2g6sDAaZX_"
      }
    },
    {
      "cell_type": "code",
      "source": [
        "# List to store results\n",
        "results = []\n",
        "\n",
        "\n",
        "def evaluate_model(name, model, X_train, X_test, y_train, y_test):\n",
        "    start_time = time.time()\n",
        "\n",
        "    # Train the model\n",
        "    model.fit(X_train, y_train)\n",
        "\n",
        "    # Make predictions\n",
        "    y_pred = model.predict(X_test)\n",
        "\n",
        "    # Calculate accuracy\n",
        "    accuracy = accuracy_score(y_test, y_pred)\n",
        "\n",
        "    # Calculate training time\n",
        "    train_time = time.time() - start_time\n",
        "\n",
        "    # Append results\n",
        "    results.append({\n",
        "        'Model': name,\n",
        "        'Accuracy': accuracy,\n",
        "        'Time (s)': train_time\n",
        "    })\n",
        "\n",
        "    # Return the calculated values\n",
        "    return name, accuracy, train_time, y_pred\n",
        "\n",
        "#creating a model object\n",
        "model = LogisticRegression()\n",
        "\n",
        "# Evaluate the model using the evaluate_model function and unpack the returned values\n",
        "name, accuracy, train_time, y_pred = evaluate_model('Logistic Regression', model, X_train, X_test, y_train, y_test)\n",
        "\n",
        "# Print results\n",
        "print(f\"\\n{name} Results:\")\n",
        "print(f\"Accuracy: {accuracy:.4f}\")\n",
        "print(f\"Training and prediction time: {train_time:.4f} seconds\")\n",
        "print(\"\\nClassification Report:\")\n",
        "print(classification_report(y_test, y_pred))\n",
        "\n",
        "# Confusion Matrix\n",
        "cm = confusion_matrix(y_test, y_pred) #Fixed: Removed extra indentation\n",
        "plt.figure(figsize=(6, 4))\n",
        "sns.heatmap(cm, annot=True, fmt='d', cmap='Blues',\n",
        "            xticklabels=cancer.target_names,\n",
        "            yticklabels=cancer.target_names)\n",
        "plt.xlabel('Predicted')\n",
        "plt.ylabel('Actual')\n",
        "plt.title(f'Confusion Matrix - {name}')\n",
        "plt.tight_layout()\n",
        "plt.show()"
      ],
      "metadata": {
        "colab": {
          "base_uri": "https://localhost:8080/",
          "height": 806
        },
        "id": "zzU7QdJSdQoe",
        "outputId": "151ff244-9493-4e44-f214-2818ebec33b0"
      },
      "execution_count": 28,
      "outputs": [
        {
          "output_type": "stream",
          "name": "stderr",
          "text": [
            "/usr/local/lib/python3.11/dist-packages/sklearn/linear_model/_logistic.py:465: ConvergenceWarning: lbfgs failed to converge (status=1):\n",
            "STOP: TOTAL NO. OF ITERATIONS REACHED LIMIT.\n",
            "\n",
            "Increase the number of iterations (max_iter) or scale the data as shown in:\n",
            "    https://scikit-learn.org/stable/modules/preprocessing.html\n",
            "Please also refer to the documentation for alternative solver options:\n",
            "    https://scikit-learn.org/stable/modules/linear_model.html#logistic-regression\n",
            "  n_iter_i = _check_optimize_result(\n"
          ]
        },
        {
          "output_type": "stream",
          "name": "stdout",
          "text": [
            "\n",
            "Logistic Regression Results:\n",
            "Accuracy: 0.9650\n",
            "Training and prediction time: 0.0191 seconds\n",
            "\n",
            "Classification Report:\n",
            "              precision    recall  f1-score   support\n",
            "\n",
            "           0       0.96      0.94      0.95        54\n",
            "           1       0.97      0.98      0.97        89\n",
            "\n",
            "    accuracy                           0.97       143\n",
            "   macro avg       0.96      0.96      0.96       143\n",
            "weighted avg       0.97      0.97      0.96       143\n",
            "\n"
          ]
        },
        {
          "output_type": "display_data",
          "data": {
            "text/plain": [
              "<Figure size 600x400 with 2 Axes>"
            ],
            "image/png": "[encoded data removed]"
          },
          "metadata": {}
        }
      ]
    },
    {
      "cell_type": "markdown",
      "source": [
        "# ### **1. Logistic Regression**"
      ],
      "metadata": {
        "id": "R-Pup4XYdaFn"
      }
    },
    {
      "cell_type": "code",
      "source": [
        "print(\"\\n\" + \"=\"*50)\n",
        "print(\"1. Logistic Regression\")\n",
        "print(\"=\"*50)\n",
        "print(\"\"\"\n",
        "Logistic Regression is a linear model for binary classification that estimates the probability\n",
        "of an instance belonging to a particular class. It's suitable for this dataset because:\n",
        "- It works well with binary classification problems (malignant vs. benign)\n",
        "- It's effective when the relationship between features and outcome is approximately linear\n",
        "- It provides interpretable coefficients that can indicate feature importance\n",
        "- It's less prone to overfitting compared to more complex models\n",
        "\"\"\")\n",
        "\n",
        "lr_model = evaluate_model('Logistic Regression',\n",
        "                          LogisticRegression(max_iter=1000, random_state=42),\n",
        "                          X_train_scaled, X_test_scaled, y_train, y_test)\n"
      ],
      "metadata": {
        "colab": {
          "base_uri": "https://localhost:8080/"
        },
        "id": "ZfpTW1LqdXJ9",
        "outputId": "2df9d29a-5259-498c-c461-326462bdb565"
      },
      "execution_count": 29,
      "outputs": [
        {
          "output_type": "stream",
          "name": "stdout",
          "text": [
            "\n",
            "==================================================\n",
            "1. Logistic Regression\n",
            "==================================================\n",
            "\n",
            "Logistic Regression is a linear model for binary classification that estimates the probability\n",
            "of an instance belonging to a particular class. It's suitable for this dataset because:\n",
            "- It works well with binary classification problems (malignant vs. benign)\n",
            "- It's effective when the relationship between features and outcome is approximately linear\n",
            "- It provides interpretable coefficients that can indicate feature importance\n",
            "- It's less prone to overfitting compared to more complex models\n",
            "\n"
          ]
        }
      ]
    },
    {
      "cell_type": "markdown",
      "source": [
        "# ### **2. Decision Tree**"
      ],
      "metadata": {
        "id": "yF4M6SvodnLI"
      }
    },
    {
      "cell_type": "code",
      "source": [
        "print(\"\\n\" + \"=\"*50)\n",
        "print(\"2. Decision Tree Classifier\")\n",
        "print(\"=\"*50)\n",
        "print(\"\"\"\n",
        "Decision Tree is a non-parametric model that creates a tree-like structure of decisions.\n",
        "It's suitable for this dataset because:\n",
        "- It can capture non-linear relationships between features\n",
        "- It's capable of handling both numerical and categorical features\n",
        "- It doesn't require feature scaling (though we're using scaled features for consistency)\n",
        "- It provides feature importance measures and is highly interpretable\n",
        "- It can model complex interactions between features\n",
        "\"\"\")\n",
        "\n",
        "dt_model = evaluate_model('Decision Tree',\n",
        "                         DecisionTreeClassifier(random_state=42),\n",
        "                         X_train_scaled, X_test_scaled, y_train, y_test)\n"
      ],
      "metadata": {
        "colab": {
          "base_uri": "https://localhost:8080/"
        },
        "id": "LZvd76vMdlBt",
        "outputId": "c69b1fd0-a94a-45c6-906b-567469d2f7fe"
      },
      "execution_count": 30,
      "outputs": [
        {
          "output_type": "stream",
          "name": "stdout",
          "text": [
            "\n",
            "==================================================\n",
            "2. Decision Tree Classifier\n",
            "==================================================\n",
            "\n",
            "Decision Tree is a non-parametric model that creates a tree-like structure of decisions.\n",
            "It's suitable for this dataset because:\n",
            "- It can capture non-linear relationships between features\n",
            "- It's capable of handling both numerical and categorical features\n",
            "- It doesn't require feature scaling (though we're using scaled features for consistency)\n",
            "- It provides feature importance measures and is highly interpretable\n",
            "- It can model complex interactions between features\n",
            "\n"
          ]
        }
      ]
    },
    {
      "cell_type": "markdown",
      "source": [
        "# ### **3. Random Forest**"
      ],
      "metadata": {
        "id": "vap1VKCzdv7d"
      }
    },
    {
      "cell_type": "code",
      "source": [
        "print(\"\\n\" + \"=\"*50)\n",
        "print(\"3. Random Forest Classifier\")\n",
        "print(\"=\"*50)\n",
        "print(\"\"\"\n",
        "Random Forest is an ensemble method that builds multiple decision trees and merges their predictions.\n",
        "It's suitable for this dataset because:\n",
        "- It reduces overfitting compared to a single decision tree\n",
        "- It can handle high-dimensional data with many features\n",
        "- It provides feature importance measures\n",
        "- It's robust to outliers and non-linear patterns\n",
        "- It generally performs well without extensive hyperparameter tuning\n",
        "\"\"\")\n",
        "\n",
        "rf_model = evaluate_model('Random Forest',\n",
        "                         RandomForestClassifier(n_estimators=100, random_state=42),\n",
        "                         X_train_scaled, X_test_scaled, y_train, y_test)"
      ],
      "metadata": {
        "colab": {
          "base_uri": "https://localhost:8080/"
        },
        "id": "nna_qPZKeErs",
        "outputId": "960e28c6-14ed-4920-a9a0-17c2ca80739b"
      },
      "execution_count": 31,
      "outputs": [
        {
          "output_type": "stream",
          "name": "stdout",
          "text": [
            "\n",
            "==================================================\n",
            "3. Random Forest Classifier\n",
            "==================================================\n",
            "\n",
            "Random Forest is an ensemble method that builds multiple decision trees and merges their predictions.\n",
            "It's suitable for this dataset because:\n",
            "- It reduces overfitting compared to a single decision tree\n",
            "- It can handle high-dimensional data with many features\n",
            "- It provides feature importance measures\n",
            "- It's robust to outliers and non-linear patterns\n",
            "- It generally performs well without extensive hyperparameter tuning\n",
            "\n"
          ]
        }
      ]
    },
    {
      "cell_type": "markdown",
      "source": [
        "# ### **4. Support Vector Machine**"
      ],
      "metadata": {
        "id": "A1v0Sk1HeJnN"
      }
    },
    {
      "cell_type": "code",
      "source": [
        "print(\"\\n\" + \"=\"*50)\n",
        "print(\"4. Support Vector Machine (SVM)\")\n",
        "print(\"=\"*50)\n",
        "print(\"\"\"\n",
        "SVM is a powerful algorithm that finds an optimal hyperplane to separate classes.\n",
        "It's suitable for this dataset because:\n",
        "- It's effective in high-dimensional spaces\n",
        "- It works well when the number of features is greater than the number of samples\n",
        "- It's memory efficient as it uses only a subset of training points (support vectors)\n",
        "- With kernel tricks, it can capture non-linear decision boundaries\n",
        "- It's particularly effective for binary classification problems\n",
        "\"\"\")\n",
        "\n",
        "svm_model = evaluate_model('SVM',\n",
        "                          SVC(kernel='rbf', probability=True, random_state=42),\n",
        "                          X_train_scaled, X_test_scaled, y_train, y_test)"
      ],
      "metadata": {
        "colab": {
          "base_uri": "https://localhost:8080/"
        },
        "id": "MuK1OojkeNz0",
        "outputId": "9a5c3826-e5fb-4479-e08c-24a5e992b012"
      },
      "execution_count": 32,
      "outputs": [
        {
          "output_type": "stream",
          "name": "stdout",
          "text": [
            "\n",
            "==================================================\n",
            "4. Support Vector Machine (SVM)\n",
            "==================================================\n",
            "\n",
            "SVM is a powerful algorithm that finds an optimal hyperplane to separate classes.\n",
            "It's suitable for this dataset because:\n",
            "- It's effective in high-dimensional spaces\n",
            "- It works well when the number of features is greater than the number of samples\n",
            "- It's memory efficient as it uses only a subset of training points (support vectors)\n",
            "- With kernel tricks, it can capture non-linear decision boundaries\n",
            "- It's particularly effective for binary classification problems\n",
            "\n"
          ]
        }
      ]
    },
    {
      "cell_type": "markdown",
      "source": [
        "# ### **5. k-Nearest Neighbors**"
      ],
      "metadata": {
        "id": "2UpdqHLceXq9"
      }
    },
    {
      "cell_type": "code",
      "source": [
        "print(\"\\n\" + \"=\"*50)\n",
        "print(\"5. k-Nearest Neighbors (k-NN)\")\n",
        "print(\"=\"*50)\n",
        "print(\"\"\"\n",
        "k-NN is a simple, instance-based learning algorithm that classifies instances based on\n",
        "the majority class of their k nearest neighbors. It's suitable for this dataset because:\n",
        "- It's non-parametric and makes no assumptions about the underlying data distribution\n",
        "- It's effective when decision boundaries are irregular\n",
        "- It's intuitive and easy to implement\n",
        "- It works well when training data is representative of the entire dataset\n",
        "- Feature scaling is crucial for k-NN (which we've already performed)\n",
        "\"\"\")\n",
        "\n",
        "knn_model = evaluate_model('k-NN',\n",
        "                          KNeighborsClassifier(n_neighbors=5),\n",
        "                          X_train_scaled, X_test_scaled, y_train, y_test)"
      ],
      "metadata": {
        "colab": {
          "base_uri": "https://localhost:8080/"
        },
        "id": "HYbWslLleaK8",
        "outputId": "6a7118ca-d627-49b0-8475-5a74772a745d"
      },
      "execution_count": 33,
      "outputs": [
        {
          "output_type": "stream",
          "name": "stdout",
          "text": [
            "\n",
            "==================================================\n",
            "5. k-Nearest Neighbors (k-NN)\n",
            "==================================================\n",
            "\n",
            "k-NN is a simple, instance-based learning algorithm that classifies instances based on\n",
            "the majority class of their k nearest neighbors. It's suitable for this dataset because:\n",
            "- It's non-parametric and makes no assumptions about the underlying data distribution\n",
            "- It's effective when decision boundaries are irregular\n",
            "- It's intuitive and easy to implement\n",
            "- It works well when training data is representative of the entire dataset\n",
            "- Feature scaling is crucial for k-NN (which we've already performed)\n",
            "\n"
          ]
        }
      ]
    },
    {
      "cell_type": "markdown",
      "source": [
        "# ## **3. Model Comparison**"
      ],
      "metadata": {
        "id": "rMsZeRSGegLU"
      }
    },
    {
      "cell_type": "code",
      "source": [
        "# Create a DataFrame with results\n",
        "results_df = pd.DataFrame(results)\n",
        "print(\"\\nModel Performance Comparison:\")\n",
        "print(results_df.sort_values('Accuracy', ascending=False))"
      ],
      "metadata": {
        "colab": {
          "base_uri": "https://localhost:8080/"
        },
        "id": "xpjZHGQeejOs",
        "outputId": "3e035dd7-8a10-4ae6-f25a-fbe780b62889"
      },
      "execution_count": 34,
      "outputs": [
        {
          "output_type": "stream",
          "name": "stdout",
          "text": [
            "\n",
            "Model Performance Comparison:\n",
            "                 Model  Accuracy  Time (s)\n",
            "1  Logistic Regression  0.979021  0.006259\n",
            "4                  SVM  0.972028  0.023682\n",
            "0  Logistic Regression  0.965035  0.019119\n",
            "3        Random Forest  0.965035  0.172970\n",
            "5                 k-NN  0.958042  0.041990\n",
            "2        Decision Tree  0.951049  0.011613\n"
          ]
        }
      ]
    },
    {
      "cell_type": "code",
      "source": [
        "# Visualize accuracy comparison\n",
        "plt.figure(figsize=(10, 6))\n",
        "sns.barplot(x='Model', y='Accuracy', data=results_df.sort_values('Accuracy', ascending=False))\n",
        "plt.title('Model Accuracy Comparison')\n",
        "plt.ylim(0.9, 1.0)  # Adjusting y-limit for better visualization of differences\n",
        "plt.xticks(rotation=45)\n",
        "plt.tight_layout()\n",
        "plt.show()"
      ],
      "metadata": {
        "colab": {
          "base_uri": "https://localhost:8080/",
          "height": 607
        },
        "id": "NpNWQRwIenMk",
        "outputId": "4052ce58-9235-4971-eb17-6f0dbc161845"
      },
      "execution_count": 35,
      "outputs": [
        {
          "output_type": "display_data",
          "data": {
            "text/plain": [
              "<Figure size 1000x600 with 1 Axes>"
            ],
            "image/png": "[encoded data removed]"
          },
          "metadata": {}
        }
      ]
    },
    {
      "cell_type": "code",
      "source": [
        "# Visualize training time comparison\n",
        "plt.figure(figsize=(10, 6))\n",
        "sns.barplot(x='Model', y='Time (s)', data=results_df.sort_values('Time (s)'))\n",
        "plt.title('Model Training Time Comparison')\n",
        "plt.xticks(rotation=45)\n",
        "plt.tight_layout()\n",
        "plt.show()"
      ],
      "metadata": {
        "colab": {
          "base_uri": "https://localhost:8080/",
          "height": 607
        },
        "id": "wPi7zWK4er9N",
        "outputId": "45249478-08b4-4cfa-ec4f-a99915191f4b"
      },
      "execution_count": 36,
      "outputs": [
        {
          "output_type": "display_data",
          "data": {
            "text/plain": [
              "<Figure size 1000x600 with 1 Axes>"
            ],
            "image/png": "[encoded data removed]"
          },
          "metadata": {}
        }
      ]
    },
    {
      "cell_type": "code",
      "source": [
        "# Cross-validation for more robust evaluation\n",
        "print(\"\\nCross-Validation Results (5-fold):\")\n",
        "models = {\n",
        "    'Logistic Regression': LogisticRegression(max_iter=1000, random_state=42),\n",
        "    'Decision Tree': DecisionTreeClassifier(random_state=42),\n",
        "    'Random Forest': RandomForestClassifier(n_estimators=100, random_state=42),\n",
        "    'SVM': SVC(kernel='rbf', random_state=42),\n",
        "    'k-NN': KNeighborsClassifier(n_neighbors=5)\n",
        "}\n",
        "\n",
        "cv_results = {}\n",
        "for name, model in models.items():\n",
        "    cv_scores = cross_val_score(model, X_train_scaled, y_train, cv=5, scoring='accuracy')\n",
        "    cv_results[name] = {\n",
        "        'Mean Accuracy': cv_scores.mean(),\n",
        "        'Std Dev': cv_scores.std()\n",
        "    }\n",
        "    print(f\"{name}: Mean Accuracy = {cv_scores.mean():.4f}, Std Dev = {cv_scores.std():.4f}\")"
      ],
      "metadata": {
        "colab": {
          "base_uri": "https://localhost:8080/"
        },
        "id": "KCnerGBQev4t",
        "outputId": "a74cceb0-6366-40d6-a86a-300a14bdbf4f"
      },
      "execution_count": 37,
      "outputs": [
        {
          "output_type": "stream",
          "name": "stdout",
          "text": [
            "\n",
            "Cross-Validation Results (5-fold):\n",
            "Logistic Regression: Mean Accuracy = 0.9741, Std Dev = 0.0173\n",
            "Decision Tree: Mean Accuracy = 0.9272, Std Dev = 0.0263\n",
            "Random Forest: Mean Accuracy = 0.9577, Std Dev = 0.0231\n",
            "SVM: Mean Accuracy = 0.9741, Std Dev = 0.0137\n",
            "k-NN: Mean Accuracy = 0.9601, Std Dev = 0.0191\n"
          ]
        }
      ]
    },
    {
      "cell_type": "markdown",
      "source": [
        "# **Find best and worst models**"
      ],
      "metadata": {
        "id": "3OaOdnr8e37U"
      }
    },
    {
      "cell_type": "code",
      "source": [
        "best_model = max(results, key=lambda x: x['Accuracy'])\n",
        "worst_model = min(results, key=lambda x: x['Accuracy'])\n",
        "\n",
        "print(\"\\nBest Performing Model:\")\n",
        "print(f\"{best_model['Model']} with an accuracy of {best_model['Accuracy']:.4f}\")\n",
        "\n",
        "print(\"\\nWorst Performing Model:\")\n",
        "print(f\"{worst_model['Model']} with an accuracy of {worst_model['Accuracy']:.4f}\")\n"
      ],
      "metadata": {
        "colab": {
          "base_uri": "https://localhost:8080/"
        },
        "id": "MUPC-0bye6p2",
        "outputId": "5f379ec1-20f7-40df-b2cc-62f59b830a06"
      },
      "execution_count": 38,
      "outputs": [
        {
          "output_type": "stream",
          "name": "stdout",
          "text": [
            "\n",
            "Best Performing Model:\n",
            "Logistic Regression with an accuracy of 0.9790\n",
            "\n",
            "Worst Performing Model:\n",
            "Decision Tree with an accuracy of 0.9510\n"
          ]
        }
      ]
    },
    {
      "cell_type": "markdown",
      "source": [
        "# **Final conclusion and discussion**"
      ],
      "metadata": {
        "id": "tE8TdHVhfH-1"
      }
    },
    {
      "cell_type": "code",
      "source": [
        "print(\"\\nConclusion:\")\n",
        "print(\"\"\"\n",
        "The breast cancer classification task was successfully implemented using five different\n",
        "supervised learning algorithms. All models performed quite well, which is common for\n",
        "this dataset as it's relatively clean and well-structured.\n",
        "\n",
        "Key findings:\n",
        "1. All models achieved good accuracy (>90%), demonstrating the effectiveness of\n",
        "   machine learning for breast cancer classification.\n",
        "2. Feature scaling was an important preprocessing step, especially for algorithms\n",
        "   sensitive to feature magnitudes (Logistic Regression, SVM, k-NN).\n",
        "3. The ensemble method (Random Forest) and SVM performed particularly well,\n",
        "   indicating that they can effectively capture the complex relationships in the data.\n",
        "4. Decision Trees had the lowest accuracy, which is expected as they tend to overfit\n",
        "   without proper pruning or ensemble techniques.\n",
        "5. Cross-validation results confirm the relative performance rankings of the models.\n",
        "\n",
        "Future work could include:\n",
        "- Hyperparameter tuning to further improve model performance\n",
        "- Feature selection to identify the most important diagnostic indicators\n",
        "- Exploring other ensemble methods or neural networks\n",
        "- Addressing class imbalance if present in larger, real-world datasets\n",
        "\n",
        "This comparison demonstrates the importance of trying multiple algorithms and\n",
        "evaluating their performance for any given machine learning task.\n",
        "\"\"\")"
      ],
      "metadata": {
        "colab": {
          "base_uri": "https://localhost:8080/"
        },
        "id": "kEMkfbFhfK1G",
        "outputId": "eb93241f-f667-4c2a-b7b0-d89875f13cab"
      },
      "execution_count": 39,
      "outputs": [
        {
          "output_type": "stream",
          "name": "stdout",
          "text": [
            "\n",
            "Conclusion:\n",
            "\n",
            "The breast cancer classification task was successfully implemented using five different\n",
            "supervised learning algorithms. All models performed quite well, which is common for\n",
            "this dataset as it's relatively clean and well-structured.\n",
            "\n",
            "Key findings:\n",
            "1. All models achieved good accuracy (>90%), demonstrating the effectiveness of\n",
            "   machine learning for breast cancer classification.\n",
            "2. Feature scaling was an important preprocessing step, especially for algorithms\n",
            "   sensitive to feature magnitudes (Logistic Regression, SVM, k-NN).\n",
            "3. The ensemble method (Random Forest) and SVM performed particularly well,\n",
            "   indicating that they can effectively capture the complex relationships in the data.\n",
            "4. Decision Trees had the lowest accuracy, which is expected as they tend to overfit\n",
            "   without proper pruning or ensemble techniques.\n",
            "5. Cross-validation results confirm the relative performance rankings of the models.\n",
            "\n",
            "Future work could include:\n",
            "- Hyperparameter tuning to further improve model performance\n",
            "- Feature selection to identify the most important diagnostic indicators\n",
            "- Exploring other ensemble methods or neural networks\n",
            "- Addressing class imbalance if present in larger, real-world datasets\n",
            "\n",
            "This comparison demonstrates the importance of trying multiple algorithms and\n",
            "evaluating their performance for any given machine learning task.\n",
            "\n"
          ]
        }
      ]
    }
  ]
}